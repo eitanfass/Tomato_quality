{
  "nbformat": 4,
  "nbformat_minor": 0,
  "metadata": {
    "colab": {
      "provenance": [],
      "mount_file_id": "1xji_OcWbDjgyLYPYB-owgMGKliYhRFbp",
      "authorship_tag": "ABX9TyODI0oRIhEKj1NRkOUYqOsU",
      "include_colab_link": true
    },
    "kernelspec": {
      "name": "python3",
      "display_name": "Python 3"
    },
    "language_info": {
      "name": "python"
    }
  },
  "cells": [
    {
      "cell_type": "markdown",
      "metadata": {
        "id": "view-in-github",
        "colab_type": "text"
      },
      "source": [
        "<a href=\"https://colab.research.google.com/github/eitanfass/Tomato_quality/blob/main/tomatoes_librery.ipynb\" target=\"_parent\"><img src=\"https://colab.research.google.com/assets/colab-badge.svg\" alt=\"Open In Colab\"/></a>"
      ]
    },
    {
      "cell_type": "code",
      "source": [
        "pip install spectral"
      ],
      "metadata": {
        "colab": {
          "base_uri": "https://localhost:8080/"
        },
        "id": "SYB9Dj7mbtqq",
        "outputId": "4f3f4842-cc81-4fac-fe21-fd681e9df50b"
      },
      "execution_count": 8,
      "outputs": [
        {
          "output_type": "stream",
          "name": "stdout",
          "text": [
            "Looking in indexes: https://pypi.org/simple, https://us-python.pkg.dev/colab-wheels/public/simple/\n",
            "Requirement already satisfied: spectral in /usr/local/lib/python3.8/dist-packages (0.23.1)\n",
            "Requirement already satisfied: numpy in /usr/local/lib/python3.8/dist-packages (from spectral) (1.21.6)\n"
          ]
        }
      ]
    },
    {
      "cell_type": "code",
      "source": [
        "\n",
        "\n",
        "from matplotlib import pyplot as plt\n",
        "import pandas as pd\n",
        "import numpy as np\n",
        "from spectral import *\n",
        "from scipy import stats\n",
        "\n",
        "class Harvest():\n",
        "\n",
        "    def __init__(self, tomato_shape, lab_results_path,reflectence_path):\n",
        "      \n",
        "      self.tomato_shape=tomato_shape\n",
        "      self.lab_results=pd.read_csv(lab_results_path)\n",
        "      self.cultivar,self.harvest_date=self._get_id()\n",
        "      self.reflectence=pd.read_csv(reflectence_path)\n",
        "      self.reflectence=self.reflectence.drop([self.reflectence.columns[0]],axis=1)\n",
        "      self.reflectence=self.reflectence.T\n",
        "\n",
        "    def _get_id(self):\n",
        "      self.cultivar=self.lab_results.iloc[0][0].split('_')[0]\n",
        "      self.harvest_date=self.lab_results.iloc[0][0].split('_')[1:4]\n",
        "      return self.cultivar,self.harvest_date\n",
        "\n",
        "\n",
        "\n",
        "\n",
        "class TomatoImage():\n",
        "  \n",
        "  def __init__(self,img_path, mask_path, bands_to_wave_table ,metadata=None,mask=None):\n",
        "    self.img=self._load_img(img_path)#data type=\n",
        "    self.mask=self.load_mask(mask_path)\n",
        "    self.bands_to_waves= bands_to_wave_table\n",
        "    self.metadata=metadata\n",
        "  \n",
        "\n",
        "  def spectral_to_RGB(self, img):\n",
        "    R_wave=80 #red wavelength index in the 204 bands\n",
        "    G_wave=45#red wavelength index in the 204 bands\n",
        "    B_wave=20 # blue wavelength index in the 204 bands\n",
        "    self.RGB=np.zeros([img.shape[0],img.shape[0],3],dtype=float)# create tamplate for RGB\n",
        "    self.RGB[:,:,0]=(img[:,:,R_wave]-img[:,:,R_wave].min())/(img[:,:,R_wave].max()-img[:,:,R_wave].min())#red \n",
        "    self.RGB[:,:,1]=(img[:,:,G_wave]-img[:,:,G_wave].min())/(img[:,:,G_wave].max()-img[:,:,G_wave].min())#green\n",
        "    self.RGB[:,:,2]=(img[:,:,B_wave]-img[:,:,B_wave].min())/(img[:,:,B_wave].max()-img[:,:,B_wave].min())#blue\n",
        "    #save as jpeg\n",
        "    return self.RGB\n",
        "  \n",
        "  def _load_img(self,img_path):\n",
        "    img = open_image(img_path)\n",
        "    self.spectral=np.array(img.load())\n",
        "    self.spectral=np.rot90(self.spectral[:,:,:],3)#rotate \n",
        "    self.RGB = self.spectral_to_RGB(self.spectral)\n",
        "    return self.spectral\n",
        "\n",
        "  def load_mask(self, mask_path):\n",
        "    pass\n",
        "  \n",
        "class Tomato(Harvest):\n",
        "    def __init__(self,lab_results,harvest:Harvest,tomato_id:int, reflectence,tomato_img=None):\n",
        "      self.reflectence=reflectence\n",
        "      self.lab_results=lab_results\n",
        "      self.tomato_id=self.lab_results.iloc[0]\n",
        "      self.harvest_date=harvest.harvest_date\n",
        "      self.cultivar=harvest.cultivar\n",
        "      if tomato_img==None:\n",
        "        pass\n",
        "      self.tomato_img=tomato_img\n",
        "    def update_ref(self, reflectence):\n",
        "      pass\n",
        "\n",
        "\n",
        "class TomatoList():\n",
        "\n",
        "  def __init__(self,harvest_list,tomato_img=None ,poligon_file=None ,):\n",
        "    self.tomato_img=tomato_img\n",
        "    self.poligon_file=poligon_file\n",
        "    self.tomato_dict=self._harvest_list_to_tomato_dict(harvest_list)\n",
        "    self.tomato_list=self.creat_tomato_list(self.tomato_dict)\n",
        "  def creat_tomato_list(self,tomato_dict):\n",
        "    return [tomato_dict[i] for i in range(1,len(tomato_dict.keys())+1)]\n",
        "  def _harvest_list_to_tomato_dict(self,harvest_list:list)->dict:\n",
        "    tomato_dict={}\n",
        "    key_count=1\n",
        "    for i in harvest_list:\n",
        "      temp=create_Tomato_instances(i)\n",
        "      for j in range (key_count,(key_count+len(temp.keys()))):\n",
        "        tomato_dict[j]=temp[j-key_count]\n",
        "      key_count+=len(temp.keys())\n",
        "    return tomato_dict\n",
        "      \n",
        "class TomatoFromImage():\n",
        "    def __init__(self, harvest:Harvest,tomato_id, tomato_imgs, lab_results_path:str, reflectence:pd.DataFrame=None):\n",
        "      self.reflectence=reflectence\n",
        "      self.lab_results=pd.read_csv(self.lab_results_path)\n",
        "      self.tomato_imgs=tomato_imgs\n",
        "      self.harvest=harvest\n",
        "\n",
        "      self.tomato_id=tomato_id\n",
        "\n",
        "    def update_ref(self, reflectence):\n",
        "      pass\n",
        "def calc_stats_per_band(tomato_img):\n",
        "  np_image_array = tomato_img.img\n",
        "  band_depth=np_image_array.shape[2]\n",
        "  stats={}\n",
        "  mask=tomato_img.mask.flatten()\n",
        "  for i in range(band_depth):\n",
        "    flat=np_image_array[:,:,i].flatten()\n",
        "    filterd = flat * mask\n",
        "    filterd[mask==0]=None\n",
        "    stats[i]= (flat.min(), flat.max() ,flat.mean() , np.median(flat) ,flat.std())\n",
        "  return stats\n",
        "\n",
        "def create_Tomato_instances(harvest:Harvest)->dict:\n",
        "  '''function that gest a harvest\n",
        "   object and creates tomato instences \n",
        "   in a dictionery with the key value the id'''\n",
        "  T={}\n",
        "  for i in range(harvest.lab_results.shape[0]):\n",
        "    T[i]=Tomato(harvest.lab_results.iloc[i],harvest,i, harvest.reflectence.iloc[i])\n",
        "  return T\n",
        "\n",
        "def NI_model(tomato_list):\n",
        "  ''' input TomatoList obj, \n",
        "  returns r_2,rmse color maps and b1,b2 of highest R2'''\n",
        "  band_depth=204\n",
        "  r_2 = np.arange(band_depth*band_depth).reshape(band_depth, band_depth)\n",
        "  r_2=np.float16(r_2)\n",
        "  rmse =r_2.copy()\n",
        "  np_results=np.array([tomato_list.tomato_list[i].lab_results.iloc[1:] for i in range(0,len(tomato_list.tomato_list))])\n",
        "  df_r=np.array([tomato_list.tomato_list[i].reflectence for i in range(0,len(tomato_list.tomato_list))])\n",
        "  r_2_max,b1,b2=0,0,0\n",
        "  for j in range(band_depth):#running all combinations\n",
        "    for y in range (band_depth):\n",
        "            # np_results[:,np_results != np.array(None)]\n",
        "            n=(df_r[:,y]-df_r[:,j])/(df_r[:,y]+df_r[:,j])\n",
        "            slope, intercept, r_value, p_value, std_err = stats.linregress(n,np_results) \n",
        "            r_2[y,j] =  r_value**2\n",
        "            rmse[y,j] =np.sqrt(((np_results-(intercept + (slope * n)))**2).mean())\n",
        "  return r_2,rmse\n",
        "  "
      ],
      "metadata": {
        "id": "jruDjpFLUZ-p"
      },
      "execution_count": 9,
      "outputs": []
    },
    {
      "cell_type": "code",
      "source": [],
      "metadata": {
        "id": "xf69Kv2bbwD2"
      },
      "execution_count": 9,
      "outputs": []
    }
  ]
}